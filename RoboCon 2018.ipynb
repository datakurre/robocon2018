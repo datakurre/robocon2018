{
 "cells": [
  {
   "cell_type": "markdown",
   "metadata": {
    "slideshow": {
     "slide_type": "slide"
    }
   },
   "source": [
    "# Robot Framework in <br/>Plone CMS Project\n",
    "<a href=\"https://www.plone.com/\" title=\"Plone CMS\">\n",
    "<img src=\"media/plone.png\"\n",
    "     style=\"float: right; max-width: 15%; margin: 0 0 0 1em;\"/></a>\n",
    "<a href=\"https://www.jyu.fi/\" title=\"University of Jyväskylä\">\n",
    "<img src=\"media/jyu.png\"\n",
    "     style=\"float: right; max-width: 26%;\"/></a>\n",
    "<a href=\"https://github.com/datakurre\">Asko Soukka</a>  \n",
    "<a href=\"mailto:asko.soukka@iki.fi\">asko.soukka@iki.fi</a>  \n",
    "IT Services    \n",
    "University of Jyväskylä"
   ]
  },
  {
   "cell_type": "markdown",
   "metadata": {
    "slideshow": {
     "slide_type": "slide"
    }
   },
   "source": [
    "> How ”robot testing” became the **synonym for acceptance testing** in Plone community."
   ]
  },
  {
   "cell_type": "markdown",
   "metadata": {
    "slideshow": {
     "slide_type": "subslide"
    }
   },
   "source": [
    "## Executive summary\n",
    "\n",
    "* robot testing has become the norm in community\n",
    "* documentation screenshots are being generated\n",
    "* multiple robot packages are being maintained"
   ]
  },
  {
   "cell_type": "markdown",
   "metadata": {
    "slideshow": {
     "slide_type": "subslide"
    }
   },
   "source": [
    "## Technical scope\n",
    "* ``robotframework`` with ``seleniumlibrary``\n",
    "* acceptance testing\n",
    "* plain text robot format\n",
    "* BDD syntax preferred (*given, when, then*)"
   ]
  },
  {
   "cell_type": "markdown",
   "metadata": {
    "slideshow": {
     "slide_type": "slide"
    }
   },
   "source": [
    "## Plone CMS\n",
    "\n",
    "* ”enterprise Python CMS”, 2001–\n",
    "* component architecture\n",
    "* hierarchical object database\n",
    "* themed content management\n",
    "* security, content types, workflows"
   ]
  },
  {
   "cell_type": "markdown",
   "metadata": {
    "slideshow": {
     "slide_type": "subslide"
    }
   },
   "source": [
    "<img src=\"media/jyu.fi.png\" style=\"width: 100%\" />"
   ]
  },
  {
   "cell_type": "markdown",
   "metadata": {
    "slideshow": {
     "slide_type": "slide"
    }
   },
   "source": [
    "## 2011: In the beginning\n",
    "\n",
    "* previous javascript strategy had failed\n",
    "* only a few recorded Selenium tests existed\n",
    "* existing frontend had to be acceptance tested\n",
    "* Robot Framework introduced at Plone conference\n"
   ]
  },
  {
   "cell_type": "markdown",
   "metadata": {
    "slideshow": {
     "slide_type": "subslide"
    }
   },
   "source": [
    "## 2012: New hope\n",
    "\n",
    "* Python unittest integration\n",
    "* common keywords library\n",
    "* introductory blog posts with runnable examples\n",
    "* robot training at Plone conference sprints\n",
    "\n"
   ]
  },
  {
   "cell_type": "markdown",
   "metadata": {
    "slideshow": {
     "slide_type": "subslide"
    }
   },
   "source": [
    "## 2013: Perfect storm\n",
    "\n",
    "* dedicated testing tooling sprint\n",
    "* opinionated integration package\n",
    "* bundled with add-on scaffolds\n",
    "* narrative documentation\n",
    "* more robot training at other sprints\n",
    "* Sphinx-integration\n"
   ]
  },
  {
   "cell_type": "markdown",
   "metadata": {
    "slideshow": {
     "slide_type": "subslide"
    }
   },
   "source": [
    "<a href=\"https://plus.google.com/photos/photo/115420034213070563448/5843394229019109666?authkey=CJHPjPzHhcW-Zg\"><img src=\"https://lh3.googleusercontent.com/-bR4JcvLCSCo/URfoF3dAaSI/AAAAAAAA0rw/j60fkyN_-x8/w530-h356-n/BarcelonaPloneSprint2013.png\" title=\"(c) Maik Röder\" style=\"width: 100%\" /></a>"
   ]
  },
  {
   "cell_type": "markdown",
   "metadata": {
    "slideshow": {
     "slide_type": "subslide"
    }
   },
   "source": [
    "> Code sprints were pioneered by the Zope, who completed in excess of 30 sprints between January 2002 and January 2006.\n",
    "<p style=\"text-align: right;\"><a href=\"https://en.wikipedia.org/wiki/Hackathon#Examples_of_code_sprints\">–Wikipedia</a></p>"
   ]
  },
  {
   "cell_type": "markdown",
   "metadata": {
    "slideshow": {
     "slide_type": "subslide"
    }
   },
   "source": [
    "# Results\n",
    "\n",
    "* core has 85 robot test suites\n",
    "* documentation has 123 robot screenshots\n",
    "* collective has 221 robot test suites\n",
    "* strong adoption in private projects"
   ]
  },
  {
   "cell_type": "markdown",
   "metadata": {
    "slideshow": {
     "slide_type": "subslide"
    }
   },
   "source": [
    "<img src=\"media/jenkins.png\" style=\"width: 100%;\" />"
   ]
  },
  {
   "cell_type": "markdown",
   "metadata": {
    "slideshow": {
     "slide_type": "slide"
    }
   },
   "source": [
    "## Recipe of our success\n",
    "\n",
    "* excellent existing test framework\n",
    "* 1st class integration packages\n",
    "* bundled with scaffolding tools\n",
    "* narrative blog posts, documentation\n",
    "* training change agents at sprints\n",
    "* being nice to fellow developers"
   ]
  },
  {
   "cell_type": "markdown",
   "metadata": {
    "slideshow": {
     "slide_type": "subslide"
    }
   },
   "source": [
    "## Common issues\n",
    "\n",
    "* timing issues in Selenium tests\n",
    "* instability of Selenium ecosystem\n",
    "* forgotting term separator in plain text format\n",
    "* quality of tests hard to control"
   ]
  },
  {
   "cell_type": "markdown",
   "metadata": {
    "slideshow": {
     "slide_type": "slide"
    }
   },
   "source": [
    "## robotsuite\n",
    "\n",
    "* robot test suite wrapper for ``unittest``\n",
    "* inspired by ``doctest`` suite wrapper\n",
    "* each test is executed separately\n",
    "* plays well with ``zope.testrunner`` layers"
   ]
  },
  {
   "cell_type": "markdown",
   "metadata": {
    "slideshow": {
     "slide_type": "subslide"
    }
   },
   "source": [
    "## plone.app.robotframework\n",
    "\n",
    "* parameterized *Open browser* keyword for CI\n",
    "* extensible remote library for managing test fixture directly from tests\n",
    "* test server with listener for resetting fixture between tests\n",
    "* community maintained keywords libraries\n"
   ]
  },
  {
   "cell_type": "code",
   "execution_count": 4,
   "metadata": {
    "hideCode": false,
    "hideOutput": false,
    "hidePrompt": false,
    "slideshow": {
     "slide_type": "skip"
    }
   },
   "outputs": [],
   "source": [
    "from pygments import highlight\n",
    "from pygments.lexers import get_lexer_by_name\n",
    "from pygments.formatters import HtmlFormatter\n",
    "from IPython.display import display, HTML\n",
    "\n",
    "lexer = get_lexer_by_name('robotframework')\n",
    "formatter = HtmlFormatter(noclasses=True, nowrap=True)\n",
    "html_code = highlight(u'''\n",
    "***Test Cases***\n",
    "\n",
    "Show feedback form\n",
    "    Go to ${URL}\n",
    "    Page should contain  Send feedback\n",
    "    Capture and crop page screenshot\n",
    "    ...    form.png\n",
    "    ...    css=h1\n",
    "    ...    css=form\n",
    "''', lexer, formatter)"
   ]
  },
  {
   "cell_type": "markdown",
   "metadata": {
    "slideshow": {
     "slide_type": "subslide"
    },
    "variables": {
     "HTML(html_code)": "<span style=\"color: #000080; font-weight: bold\">***Test Cases***</span>\n\n<span style=\"color: #800080; font-weight: bold\">Show feedback form</span>\n    <span style=\"color: #0000FF\">Go to </span>${<span style=\"color: #19177C\">URL</span>}\n    <span style=\"color: #0000FF\">Page should contain</span>  <span style=\"color: #BA2121\">Send feedback</span>\n    <span style=\"color: #0000FF\">Capture and crop page screenshot</span>\n    ...    <span style=\"color: #BA2121\">form.png</span>\n    ...    <span style=\"color: #BA2121\">css=h1</span>\n    ...    <span style=\"color: #BA2121\">css=form</span>\n"
    }
   },
   "source": [
    "## selenium2screenshots\n",
    "<pre>{{HTML(html_code)}}</pre>"
   ]
  },
  {
   "cell_type": "code",
   "execution_count": 5,
   "metadata": {
    "slideshow": {
     "slide_type": "skip"
    }
   },
   "outputs": [],
   "source": [
    "lexer = get_lexer_by_name('robotframework')\n",
    "html_code = highlight(u'''\n",
    "***Test Cases***\n",
    "\n",
    "Show locked original\n",
    "\n",
    "    ${folder_id} =  Translate  folder_news_id\n",
    "    ...  default=news\n",
    "    ${item_id} =  Translate  sample_news_id\n",
    "    ...  default=website-refresh\n",
    "    Go to  ${PLONE_URL}/${folder_id}/${item_id}\n",
    "\n",
    "    Element should be visible  css=#plone-lock-status\n",
    "    Update element style\n",
    "    ...  css=a.managePortletsFallback  display  none\n",
    "\n",
    "    Capture and crop page screenshot\n",
    "    ...  ${CURDIR}/../../_robot/working-copy_locked.png\n",
    "    ...  css=#portal-column-content\n",
    "''', lexer, formatter)"
   ]
  },
  {
   "cell_type": "markdown",
   "metadata": {
    "slideshow": {
     "slide_type": "subslide"
    }
   },
   "source": [
    "<img src=\"media/working-copy_locked.png\" style=\"width: 100%\" />"
   ]
  },
  {
   "cell_type": "markdown",
   "metadata": {
    "slideshow": {
     "slide_type": "subslide"
    },
    "variables": {
     "HTML(html_code)": "<span style=\"color: #000080; font-weight: bold\">***Test Cases***</span>\n\n<span style=\"color: #800080; font-weight: bold\">Show locked original</span>\n\n    ${<span style=\"color: #19177C\">folder_id</span>} =  <span style=\"color: #0000FF\">Translate</span>  <span style=\"color: #BA2121\">folder_news_id</span>\n    ...  <span style=\"color: #BA2121\">default=news</span>\n    ${<span style=\"color: #19177C\">item_id</span>} =  <span style=\"color: #0000FF\">Translate</span>  <span style=\"color: #BA2121\">sample_news_id</span>\n    ...  <span style=\"color: #BA2121\">default=website-refresh</span>\n    <span style=\"color: #0000FF\">Go to</span>  ${<span style=\"color: #19177C\">PLONE_URL</span>}<span style=\"color: #BA2121\">/</span>${<span style=\"color: #19177C\">folder_id</span>}<span style=\"color: #BA2121\">/</span>${<span style=\"color: #19177C\">item_id</span>}\n\n    <span style=\"color: #0000FF\">Element should be visible</span>  <span style=\"color: #BA2121\">css=#plone-lock-status</span>\n    <span style=\"color: #0000FF\">Update element style</span>\n    ...  <span style=\"color: #BA2121\">css=a.managePortletsFallback</span>  <span style=\"color: #BA2121\">display</span>  <span style=\"color: #BA2121\">none</span>\n\n    <span style=\"color: #0000FF\">Capture and crop page screenshot</span>\n    ...  ${<span style=\"color: #19177C\">CURDIR</span>}<span style=\"color: #BA2121\">/../../_robot/working-copy_locked.png</span>\n    ...  <span style=\"color: #BA2121\">css=#portal-column-content</span>\n"
    }
   },
   "source": [
    "<pre>{{HTML(html_code)}}</pre>"
   ]
  },
  {
   "cell_type": "markdown",
   "metadata": {
    "slideshow": {
     "slide_type": "subslide"
    }
   },
   "source": [
    "<img src=\"media/contact-submit-application.png\" style=\"width: 100%\" />"
   ]
  },
  {
   "cell_type": "code",
   "execution_count": 6,
   "metadata": {
    "hideCode": false,
    "hideOutput": false,
    "hidePrompt": false,
    "slideshow": {
     "slide_type": "skip"
    }
   },
   "outputs": [],
   "source": [
    "lexer = get_lexer_by_name('rst')\n",
    "html_code = highlight(u'''\n",
    ".. figure:: form.png\n",
    ".. code:: robotframework\n",
    "\n",
    "   ***Test Cases***\n",
    "\n",
    "   Show feedback form\n",
    "       Go to ${URL}\n",
    "       Page should contain  Send feedback\n",
    "       Capture and crop page screenshot\n",
    "       ...    form.png  css=h1 css=form\n",
    "''', lexer, formatter)"
   ]
  },
  {
   "cell_type": "markdown",
   "metadata": {
    "slideshow": {
     "slide_type": "subslide"
    },
    "variables": {
     "HTML(html_code)": ".. <span style=\"color: #AA22FF; font-weight: bold\">figure</span>:: form.png\n.. <span style=\"color: #AA22FF; font-weight: bold\">code</span>:: <span style=\"color: #008000; font-weight: bold\">robotframework</span>\n\n   <span style=\"color: #000080; font-weight: bold\">***Test Cases***</span>\n\n   <span style=\"color: #800080; font-weight: bold\">Show feedback form</span>\n       <span style=\"color: #0000FF\">Go to </span>${<span style=\"color: #19177C\">URL</span>}\n       <span style=\"color: #0000FF\">Page should contain</span>  <span style=\"color: #BA2121\">Send feedback</span>\n       <span style=\"color: #0000FF\">Capture and crop page screenshot</span>\n       ...    <span style=\"color: #BA2121\">form.png</span>  <span style=\"color: #BA2121\">css=h1 css=form</span>\n"
    }
   },
   "source": [
    "## sphinxcontrib-robotframework\n",
    "<pre>{{HTML(html_code)}}</pre>"
   ]
  },
  {
   "cell_type": "markdown",
   "metadata": {
    "slideshow": {
     "slide_type": "subslide"
    }
   },
   "source": [
    "## Robot Sphinx + Travis + S3\n",
    "<img src=\"media/mosaic.gif\" style=\"width: 100%\" />"
   ]
  },
  {
   "cell_type": "markdown",
   "metadata": {
    "slideshow": {
     "slide_type": "subslide"
    }
   },
   "source": [
    "<video src=\"media/plone.webm\" autoplay=\"autoplay\" controls=\"autoplay\" style=\"width: 100%\"></video><p style=\"text-align: right;\"><a href=\"https://www.youtube.com/watch?v=VN9FROZO5AY\" target=\"_blank\">youtube</a></p>"
   ]
  },
  {
   "cell_type": "markdown",
   "metadata": {
    "slideshow": {
     "slide_type": "slide"
    }
   },
   "source": [
    "## More robot by Plonistas\n",
    "\n",
    "* [robotframework-djangolibrary](https://pypi.python.org/pypi/robotframework-djangolibrary)\n",
    "* [robotframework-angularjs](https://pypi.python.org/pypi/robotframework-angularjs)\n",
    "* [robotframework-webpack](https://pypi.python.org/pypi/robotframework-webpack/)\n",
    "* [robotframework-react](https://github.com/kitconcept/robotframework-react)\n",
    "* [pyramid-robot](https://pypi.python.org/pypi/pyramid_robot/1.1)\n",
    "* ...\n",
    "* experiments on accessibility testing"
   ]
  },
  {
   "cell_type": "markdown",
   "metadata": {
    "slideshow": {
     "slide_type": "slide"
    }
   },
   "source": [
    "## Questions?\n",
    "\n",
    "## Thank you!\n",
    "\n",
    "Asko Soukka / asko.soukka@iki.fi  \n",
    "http://datakurre.github.com/robocon2018"
   ]
  }
 ],
 "metadata": {
  "celltoolbar": "Slideshow",
  "kernelspec": {
   "display_name": "Python 3.6",
   "language": "python",
   "name": "python36"
  },
  "language_info": {
   "codemirror_mode": {
    "name": "ipython",
    "version": 3
   },
   "file_extension": ".py",
   "mimetype": "text/x-python",
   "name": "python",
   "nbconvert_exporter": "python",
   "pygments_lexer": "ipython3",
   "version": "3.6.4"
  }
 },
 "nbformat": 4,
 "nbformat_minor": 2
}
